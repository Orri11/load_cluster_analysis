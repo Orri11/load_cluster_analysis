{
 "cells": [
  {
   "cell_type": "code",
   "execution_count": 1,
   "metadata": {},
   "outputs": [],
   "source": [
    "import pandas as pd\n",
    "import numpy as np\n",
    "import matplotlib.pyplot as plt"
   ]
  },
  {
   "cell_type": "code",
   "execution_count": 2,
   "metadata": {},
   "outputs": [],
   "source": [
    "dfs= pd.read_csv('load_data.csv', chunksize = 10**6)\n",
    "df_raw = pd.concat(dfs)\n"
   ]
  },
  {
   "cell_type": "code",
   "execution_count": 3,
   "metadata": {},
   "outputs": [
    {
     "data": {
      "text/html": [
       "<div>\n",
       "<style scoped>\n",
       "    .dataframe tbody tr th:only-of-type {\n",
       "        vertical-align: middle;\n",
       "    }\n",
       "\n",
       "    .dataframe tbody tr th {\n",
       "        vertical-align: top;\n",
       "    }\n",
       "\n",
       "    .dataframe thead th {\n",
       "        text-align: right;\n",
       "    }\n",
       "</style>\n",
       "<table border=\"1\" class=\"dataframe\">\n",
       "  <thead>\n",
       "    <tr style=\"text-align: right;\">\n",
       "      <th></th>\n",
       "      <th>CUSTOMER_ID</th>\n",
       "      <th>READING_DATETIME</th>\n",
       "      <th>CALENDAR_KEY</th>\n",
       "      <th>EVENT_KEY</th>\n",
       "      <th>GENERAL_SUPPLY_KWH</th>\n",
       "      <th>CONTROLLED_LOAD_KWH</th>\n",
       "      <th>GROSS_GENERATION_KWH</th>\n",
       "      <th>NET_GENERATION_KWH</th>\n",
       "      <th>OTHER_KWH</th>\n",
       "    </tr>\n",
       "  </thead>\n",
       "  <tbody>\n",
       "    <tr>\n",
       "      <th>0</th>\n",
       "      <td>10006414</td>\n",
       "      <td>2012-02-10 08:00:00</td>\n",
       "      <td>233632</td>\n",
       "      <td>0</td>\n",
       "      <td>0.141</td>\n",
       "      <td>0.0</td>\n",
       "      <td>0.0</td>\n",
       "      <td>0.0</td>\n",
       "      <td>0</td>\n",
       "    </tr>\n",
       "    <tr>\n",
       "      <th>1</th>\n",
       "      <td>10006414</td>\n",
       "      <td>2012-02-10 08:30:00</td>\n",
       "      <td>233635</td>\n",
       "      <td>0</td>\n",
       "      <td>0.088</td>\n",
       "      <td>0.0</td>\n",
       "      <td>0.0</td>\n",
       "      <td>0.0</td>\n",
       "      <td>0</td>\n",
       "    </tr>\n",
       "    <tr>\n",
       "      <th>2</th>\n",
       "      <td>10006414</td>\n",
       "      <td>2012-02-10 09:00:00</td>\n",
       "      <td>233638</td>\n",
       "      <td>0</td>\n",
       "      <td>0.078</td>\n",
       "      <td>0.0</td>\n",
       "      <td>0.0</td>\n",
       "      <td>0.0</td>\n",
       "      <td>0</td>\n",
       "    </tr>\n",
       "    <tr>\n",
       "      <th>3</th>\n",
       "      <td>10006414</td>\n",
       "      <td>2012-02-10 09:30:00</td>\n",
       "      <td>233641</td>\n",
       "      <td>0</td>\n",
       "      <td>0.151</td>\n",
       "      <td>0.0</td>\n",
       "      <td>0.0</td>\n",
       "      <td>0.0</td>\n",
       "      <td>0</td>\n",
       "    </tr>\n",
       "    <tr>\n",
       "      <th>4</th>\n",
       "      <td>10006414</td>\n",
       "      <td>2012-02-10 10:00:00</td>\n",
       "      <td>233644</td>\n",
       "      <td>0</td>\n",
       "      <td>0.146</td>\n",
       "      <td>0.0</td>\n",
       "      <td>0.0</td>\n",
       "      <td>0.0</td>\n",
       "      <td>0</td>\n",
       "    </tr>\n",
       "    <tr>\n",
       "      <th>...</th>\n",
       "      <td>...</td>\n",
       "      <td>...</td>\n",
       "      <td>...</td>\n",
       "      <td>...</td>\n",
       "      <td>...</td>\n",
       "      <td>...</td>\n",
       "      <td>...</td>\n",
       "      <td>...</td>\n",
       "      <td>...</td>\n",
       "    </tr>\n",
       "    <tr>\n",
       "      <th>344518781</th>\n",
       "      <td>9997848</td>\n",
       "      <td>2014-03-03 03:30:00</td>\n",
       "      <td>332659</td>\n",
       "      <td>0</td>\n",
       "      <td>0.117</td>\n",
       "      <td>0.0</td>\n",
       "      <td>0.0</td>\n",
       "      <td>0.0</td>\n",
       "      <td>0</td>\n",
       "    </tr>\n",
       "    <tr>\n",
       "      <th>344518782</th>\n",
       "      <td>9997848</td>\n",
       "      <td>2014-03-03 04:00:00</td>\n",
       "      <td>332662</td>\n",
       "      <td>0</td>\n",
       "      <td>0.103</td>\n",
       "      <td>0.0</td>\n",
       "      <td>0.0</td>\n",
       "      <td>0.0</td>\n",
       "      <td>0</td>\n",
       "    </tr>\n",
       "    <tr>\n",
       "      <th>344518783</th>\n",
       "      <td>9997848</td>\n",
       "      <td>2014-03-03 04:30:00</td>\n",
       "      <td>332665</td>\n",
       "      <td>0</td>\n",
       "      <td>0.073</td>\n",
       "      <td>0.0</td>\n",
       "      <td>0.0</td>\n",
       "      <td>0.0</td>\n",
       "      <td>0</td>\n",
       "    </tr>\n",
       "    <tr>\n",
       "      <th>344518784</th>\n",
       "      <td>9997848</td>\n",
       "      <td>2014-03-03 05:00:00</td>\n",
       "      <td>332668</td>\n",
       "      <td>0</td>\n",
       "      <td>0.145</td>\n",
       "      <td>0.0</td>\n",
       "      <td>0.0</td>\n",
       "      <td>0.0</td>\n",
       "      <td>0</td>\n",
       "    </tr>\n",
       "    <tr>\n",
       "      <th>344518785</th>\n",
       "      <td>9997848</td>\n",
       "      <td>2014-03-03 05:30:00</td>\n",
       "      <td>332671</td>\n",
       "      <td>0</td>\n",
       "      <td>0.076</td>\n",
       "      <td>0.0</td>\n",
       "      <td>0.0</td>\n",
       "      <td>0.0</td>\n",
       "      <td>0</td>\n",
       "    </tr>\n",
       "  </tbody>\n",
       "</table>\n",
       "<p>344518786 rows × 9 columns</p>\n",
       "</div>"
      ],
      "text/plain": [
       "           CUSTOMER_ID     READING_DATETIME   CALENDAR_KEY   EVENT_KEY  \\\n",
       "0             10006414  2012-02-10 08:00:00         233632           0   \n",
       "1             10006414  2012-02-10 08:30:00         233635           0   \n",
       "2             10006414  2012-02-10 09:00:00         233638           0   \n",
       "3             10006414  2012-02-10 09:30:00         233641           0   \n",
       "4             10006414  2012-02-10 10:00:00         233644           0   \n",
       "...                ...                  ...            ...         ...   \n",
       "344518781      9997848  2014-03-03 03:30:00         332659           0   \n",
       "344518782      9997848  2014-03-03 04:00:00         332662           0   \n",
       "344518783      9997848  2014-03-03 04:30:00         332665           0   \n",
       "344518784      9997848  2014-03-03 05:00:00         332668           0   \n",
       "344518785      9997848  2014-03-03 05:30:00         332671           0   \n",
       "\n",
       "            GENERAL_SUPPLY_KWH   CONTROLLED_LOAD_KWH   GROSS_GENERATION_KWH  \\\n",
       "0                        0.141                   0.0                    0.0   \n",
       "1                        0.088                   0.0                    0.0   \n",
       "2                        0.078                   0.0                    0.0   \n",
       "3                        0.151                   0.0                    0.0   \n",
       "4                        0.146                   0.0                    0.0   \n",
       "...                        ...                   ...                    ...   \n",
       "344518781                0.117                   0.0                    0.0   \n",
       "344518782                0.103                   0.0                    0.0   \n",
       "344518783                0.073                   0.0                    0.0   \n",
       "344518784                0.145                   0.0                    0.0   \n",
       "344518785                0.076                   0.0                    0.0   \n",
       "\n",
       "            NET_GENERATION_KWH   OTHER_KWH  \n",
       "0                          0.0           0  \n",
       "1                          0.0           0  \n",
       "2                          0.0           0  \n",
       "3                          0.0           0  \n",
       "4                          0.0           0  \n",
       "...                        ...         ...  \n",
       "344518781                  0.0           0  \n",
       "344518782                  0.0           0  \n",
       "344518783                  0.0           0  \n",
       "344518784                  0.0           0  \n",
       "344518785                  0.0           0  \n",
       "\n",
       "[344518786 rows x 9 columns]"
      ]
     },
     "execution_count": 3,
     "metadata": {},
     "output_type": "execute_result"
    }
   ],
   "source": [
    "df_raw.head(-5)"
   ]
  },
  {
   "cell_type": "code",
   "execution_count": 4,
   "metadata": {},
   "outputs": [],
   "source": [
    "df_raw.drop(columns = [' CALENDAR_KEY', ' EVENT_KEY',' CONTROLLED_LOAD_KWH', ' GROSS_GENERATION_KWH',\n",
    "                    ' NET_GENERATION_KWH', ' OTHER_KWH'], inplace=True)\n",
    "df_raw = df_raw.rename(columns={'CUSTOMER_ID':'customer','READING_DATETIME':'time',' GENERAL_SUPPLY_KWH':'load'})\n",
    "df_raw['time'] = pd.to_datetime(df_raw['time'])"
   ]
  },
  {
   "cell_type": "code",
   "execution_count": null,
   "metadata": {},
   "outputs": [],
   "source": [
    "df_raw['year']= df_raw['time'].dt.year\n",
    "df_raw_2013 = df_raw[df_raw['year'] == 2013]\n",
    "df_raw = df_raw.drop(columns = 'year')\n",
    "df_raw_2013  = df_raw_2013.drop(columns = 'year')"
   ]
  },
  {
   "cell_type": "code",
   "execution_count": 10,
   "metadata": {},
   "outputs": [],
   "source": [
    "df_raw_2013 = df_raw_2013.drop_duplicates(subset=['time', 'customer'])\n",
    "df_2013_pivot = df_raw_2013.pivot(index = 'time', columns = 'customer', values = 'load')"
   ]
  },
  {
   "cell_type": "code",
   "execution_count": 8,
   "metadata": {},
   "outputs": [],
   "source": [
    "duplicates = df_raw_2013[df_raw_2013.duplicated(subset=['time', 'customer'], keep=False)]"
   ]
  },
  {
   "cell_type": "code",
   "execution_count": 7,
   "metadata": {},
   "outputs": [],
   "source": [
    "customer_dict = {}\n",
    "for id in df['CUSTOMER_ID'].unique():\n",
    "    customer_dict[id] = df.loc[df['CUSTOMER_ID'] == id , ' GENERAL_SUPPLY_KWH']"
   ]
  },
  {
   "cell_type": "code",
   "execution_count": 8,
   "metadata": {},
   "outputs": [],
   "source": [
    "import pickle\n",
    "with open (\"customer_dict.pkl\", \"wb\") as f:\n",
    "    pickle.dump(customer_dict, f)"
   ]
  },
  {
   "cell_type": "code",
   "execution_count": 14,
   "metadata": {},
   "outputs": [
    {
     "data": {
      "text/plain": [
       "13735"
      ]
     },
     "execution_count": 14,
     "metadata": {},
     "output_type": "execute_result"
    }
   ],
   "source": [
    "len(customer_dict.keys())\n"
   ]
  }
 ],
 "metadata": {
  "kernelspec": {
   "display_name": "base",
   "language": "python",
   "name": "python3"
  },
  "language_info": {
   "codemirror_mode": {
    "name": "ipython",
    "version": 3
   },
   "file_extension": ".py",
   "mimetype": "text/x-python",
   "name": "python",
   "nbconvert_exporter": "python",
   "pygments_lexer": "ipython3",
   "version": "3.11.7"
  }
 },
 "nbformat": 4,
 "nbformat_minor": 2
}
