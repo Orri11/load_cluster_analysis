{
 "cells": [
  {
   "cell_type": "code",
   "execution_count": 3,
   "metadata": {},
   "outputs": [],
   "source": [
    "import pandas as pd\n",
    "import numpy as np\n",
    "import matplotlib.pyplot as plt"
   ]
  },
  {
   "cell_type": "code",
   "execution_count": 6,
   "metadata": {},
   "outputs": [],
   "source": [
    "dfs= pd.read_csv('load_data.csv', chunksize = 10**6)\n",
    "df = pd.concat(dfs)\n"
   ]
  },
  {
   "cell_type": "code",
   "execution_count": 11,
   "metadata": {},
   "outputs": [
    {
     "data": {
      "text/html": [
       "<div>\n",
       "<style scoped>\n",
       "    .dataframe tbody tr th:only-of-type {\n",
       "        vertical-align: middle;\n",
       "    }\n",
       "\n",
       "    .dataframe tbody tr th {\n",
       "        vertical-align: top;\n",
       "    }\n",
       "\n",
       "    .dataframe thead th {\n",
       "        text-align: right;\n",
       "    }\n",
       "</style>\n",
       "<table border=\"1\" class=\"dataframe\">\n",
       "  <thead>\n",
       "    <tr style=\"text-align: right;\">\n",
       "      <th></th>\n",
       "      <th>CUSTOMER_ID</th>\n",
       "      <th>READING_DATETIME</th>\n",
       "      <th>CALENDAR_KEY</th>\n",
       "      <th>EVENT_KEY</th>\n",
       "      <th>GENERAL_SUPPLY_KWH</th>\n",
       "      <th>CONTROLLED_LOAD_KWH</th>\n",
       "      <th>GROSS_GENERATION_KWH</th>\n",
       "      <th>NET_GENERATION_KWH</th>\n",
       "      <th>OTHER_KWH</th>\n",
       "    </tr>\n",
       "  </thead>\n",
       "  <tbody>\n",
       "    <tr>\n",
       "      <th>0</th>\n",
       "      <td>10006414</td>\n",
       "      <td>2012-02-10 08:00:00</td>\n",
       "      <td>233632</td>\n",
       "      <td>0</td>\n",
       "      <td>0.141</td>\n",
       "      <td>0.0</td>\n",
       "      <td>0.0</td>\n",
       "      <td>0.0</td>\n",
       "      <td>0</td>\n",
       "    </tr>\n",
       "    <tr>\n",
       "      <th>1</th>\n",
       "      <td>10006414</td>\n",
       "      <td>2012-02-10 08:30:00</td>\n",
       "      <td>233635</td>\n",
       "      <td>0</td>\n",
       "      <td>0.088</td>\n",
       "      <td>0.0</td>\n",
       "      <td>0.0</td>\n",
       "      <td>0.0</td>\n",
       "      <td>0</td>\n",
       "    </tr>\n",
       "    <tr>\n",
       "      <th>2</th>\n",
       "      <td>10006414</td>\n",
       "      <td>2012-02-10 09:00:00</td>\n",
       "      <td>233638</td>\n",
       "      <td>0</td>\n",
       "      <td>0.078</td>\n",
       "      <td>0.0</td>\n",
       "      <td>0.0</td>\n",
       "      <td>0.0</td>\n",
       "      <td>0</td>\n",
       "    </tr>\n",
       "    <tr>\n",
       "      <th>3</th>\n",
       "      <td>10006414</td>\n",
       "      <td>2012-02-10 09:30:00</td>\n",
       "      <td>233641</td>\n",
       "      <td>0</td>\n",
       "      <td>0.151</td>\n",
       "      <td>0.0</td>\n",
       "      <td>0.0</td>\n",
       "      <td>0.0</td>\n",
       "      <td>0</td>\n",
       "    </tr>\n",
       "    <tr>\n",
       "      <th>4</th>\n",
       "      <td>10006414</td>\n",
       "      <td>2012-02-10 10:00:00</td>\n",
       "      <td>233644</td>\n",
       "      <td>0</td>\n",
       "      <td>0.146</td>\n",
       "      <td>0.0</td>\n",
       "      <td>0.0</td>\n",
       "      <td>0.0</td>\n",
       "      <td>0</td>\n",
       "    </tr>\n",
       "  </tbody>\n",
       "</table>\n",
       "</div>"
      ],
      "text/plain": [
       "   CUSTOMER_ID     READING_DATETIME   CALENDAR_KEY   EVENT_KEY  \\\n",
       "0     10006414  2012-02-10 08:00:00         233632           0   \n",
       "1     10006414  2012-02-10 08:30:00         233635           0   \n",
       "2     10006414  2012-02-10 09:00:00         233638           0   \n",
       "3     10006414  2012-02-10 09:30:00         233641           0   \n",
       "4     10006414  2012-02-10 10:00:00         233644           0   \n",
       "\n",
       "    GENERAL_SUPPLY_KWH   CONTROLLED_LOAD_KWH   GROSS_GENERATION_KWH  \\\n",
       "0                0.141                   0.0                    0.0   \n",
       "1                0.088                   0.0                    0.0   \n",
       "2                0.078                   0.0                    0.0   \n",
       "3                0.151                   0.0                    0.0   \n",
       "4                0.146                   0.0                    0.0   \n",
       "\n",
       "    NET_GENERATION_KWH   OTHER_KWH  \n",
       "0                  0.0           0  \n",
       "1                  0.0           0  \n",
       "2                  0.0           0  \n",
       "3                  0.0           0  \n",
       "4                  0.0           0  "
      ]
     },
     "execution_count": 11,
     "metadata": {},
     "output_type": "execute_result"
    }
   ],
   "source": [
    "df.head()"
   ]
  },
  {
   "cell_type": "code",
   "execution_count": 27,
   "metadata": {},
   "outputs": [],
   "source": [
    "customer_dict = {}\n",
    "for id in df['CUSTOMER_ID'].unique():\n",
    "    customer_dict[id] = df.loc[df['CUSTOMER_ID'] == id , ' GENERAL_SUPPLY_KWH']"
   ]
  },
  {
   "cell_type": "code",
   "execution_count": 3,
   "metadata": {},
   "outputs": [
    {
     "ename": "NameError",
     "evalue": "name 'customer_dict' is not defined",
     "output_type": "error",
     "traceback": [
      "\u001b[0;31m---------------------------------------------------------------------------\u001b[0m",
      "\u001b[0;31mNameError\u001b[0m                                 Traceback (most recent call last)",
      "Cell \u001b[0;32mIn[3], line 2\u001b[0m\n\u001b[1;32m      1\u001b[0m lengts \u001b[38;5;241m=\u001b[39m []\n\u001b[0;32m----> 2\u001b[0m \u001b[38;5;28;01mfor\u001b[39;00m key \u001b[38;5;129;01min\u001b[39;00m \u001b[43mcustomer_dict\u001b[49m:\n\u001b[1;32m      3\u001b[0m     length\u001b[38;5;241m.\u001b[39mappend(\u001b[38;5;28mlen\u001b[39m(customer_dict[key]))\n\u001b[1;32m      5\u001b[0m \u001b[38;5;28mprint\u001b[39m(lengths\u001b[38;5;241m.\u001b[39munique())\n",
      "\u001b[0;31mNameError\u001b[0m: name 'customer_dict' is not defined"
     ]
    }
   ],
   "source": [
    "lengts = []\n",
    "for key in customer_dict:\n",
    "    length.append(len(customer_dict[key]))\n",
    "\n",
    "print(lengths.unique())\n"
   ]
  }
 ],
 "metadata": {
  "kernelspec": {
   "display_name": "base",
   "language": "python",
   "name": "python3"
  },
  "language_info": {
   "codemirror_mode": {
    "name": "ipython",
    "version": 3
   },
   "file_extension": ".py",
   "mimetype": "text/x-python",
   "name": "python",
   "nbconvert_exporter": "python",
   "pygments_lexer": "ipython3",
   "version": "3.10.15"
  }
 },
 "nbformat": 4,
 "nbformat_minor": 2
}
